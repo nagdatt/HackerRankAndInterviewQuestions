{
  "nbformat": 4,
  "nbformat_minor": 0,
  "metadata": {
    "colab": {
      "name": "KhaledAndAwsGame.ipynb",
      "provenance": [],
      "authorship_tag": "ABX9TyPXT1CHyaXvV8ddJTiNNtaf",
      "include_colab_link": true
    },
    "kernelspec": {
      "name": "python3",
      "display_name": "Python 3"
    },
    "language_info": {
      "name": "python"
    }
  },
  "cells": [
    {
      "cell_type": "markdown",
      "metadata": {
        "id": "view-in-github",
        "colab_type": "text"
      },
      "source": [
        "<a href=\"https://colab.research.google.com/github/nagdatt/HackerRankAndInterviewQuestions/blob/main/KhaledAndAwsGame.ipynb\" target=\"_parent\"><img src=\"https://colab.research.google.com/assets/colab-badge.svg\" alt=\"Open In Colab\"/></a>"
      ]
    },
    {
      "cell_type": "code",
      "metadata": {
        "colab": {
          "base_uri": "https://localhost:8080/"
        },
        "id": "7425p2Qzq4wZ",
        "outputId": "e6e74dd6-3b8c-4e8b-aa55-b953feda8938"
      },
      "source": [
        "khaled=0\n",
        "Aws=0\n",
        "def AgainCheck(element):\n",
        "  for i in range(2,element):\n",
        "    if(element%i==0):\n",
        "      return True\n",
        "  return False\n",
        "def replaceValue(element):\n",
        "  if(element==1 and element==-1):\n",
        "    return False,element\n",
        "  c=0\n",
        "  val=element\n",
        "  for i in range(2,element):\n",
        "    \n",
        "   \n",
        "    if(element%i!=0):\n",
        "    \n",
        "\n",
        "            c=1\n",
        "            val=i\n",
        "            break\n",
        "  if(c==1):\n",
        "    return True,val\n",
        "  else:\n",
        "    return False,val\n",
        "\n",
        "      \n",
        "def fun(arr2):\n",
        "  for i in range(0,len(arr2)):\n",
        "    repVal=replaceValue(arr2[i])\n",
        "    #print(repVal)\n",
        "    if(repVal[0]):\n",
        "       arr2[i]=repVal[1]\n",
        "    else:\n",
        "      arr2[i]=-1\n",
        "\n",
        "    \n",
        "  return arr2.copy()\n",
        "N=int(input())\n",
        "arr=[]\n",
        "values=0\n",
        "for i in range(0,N):\n",
        "  arr.append(int(input()))\n",
        "  DummyArr=fun(arr.copy())\n",
        "  if(DummyArr[-1]==-1):\n",
        "    continue\n",
        "  DummyArr2=fun(DummyArr.copy())\n",
        "  if(DummyArr2[-1]==-1):\n",
        "    values+=1\n",
        "print(\"Answer=\",values)\n",
        "\n",
        "  #print(arr)\n",
        " # print(DummyArr)\n",
        "\n",
        " # print(DummyArr2)\n",
        "\n",
        "  #print(DummyArr2)\n",
        "\n",
        "#print(arr)"
      ],
      "execution_count": 39,
      "outputs": [
        {
          "output_type": "stream",
          "text": [
            "2\n",
            "3\n",
            "5\n",
            "Answer= 2\n"
          ],
          "name": "stdout"
        }
      ]
    },
    {
      "cell_type": "code",
      "metadata": {
        "id": "TsiRlD62rNNx"
      },
      "source": [
        "3\n",
        "33"
      ],
      "execution_count": null,
      "outputs": []
    }
  ]
}